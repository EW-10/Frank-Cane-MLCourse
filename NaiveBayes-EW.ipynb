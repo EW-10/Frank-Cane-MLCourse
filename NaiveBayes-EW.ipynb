{
 "cells": [
  {
   "cell_type": "markdown",
   "metadata": {},
   "source": [
    "# Naive Bayes (the easy way)"
   ]
  },
  {
   "cell_type": "markdown",
   "metadata": {},
   "source": [
    "We'll cheat by using sklearn.naive_bayes to train a spam classifier! Most of the code is just loading our training data into a pandas DataFrame that we can play with:"
   ]
  },
  {
   "cell_type": "markdown",
   "metadata": {},
   "source": [
    "### Creation of a dataframe of known \"<u>spam</u>\" and \"<u>ham</u>\" emails"
   ]
  },
  {
   "cell_type": "code",
   "execution_count": 1,
   "metadata": {},
   "outputs": [
    {
     "name": "stderr",
     "output_type": "stream",
     "text": [
      "C:\\Users\\Einat Willmott\\AppData\\Local\\Temp\\ipykernel_15464\\150096325.py:42: FutureWarning: The frame.append method is deprecated and will be removed from pandas in a future version. Use pandas.concat instead.\n",
      "  data = data.append(dataFrameFromDirectory('C:\\MLCourse\\emails/spam', 'spam'))\n",
      "C:\\Users\\Einat Willmott\\AppData\\Local\\Temp\\ipykernel_15464\\150096325.py:43: FutureWarning: The frame.append method is deprecated and will be removed from pandas in a future version. Use pandas.concat instead.\n",
      "  data = data.append(dataFrameFromDirectory('C:\\MLCourse\\emails/ham', 'ham'))\n"
     ]
    }
   ],
   "source": [
    "# Importing libraries\n",
    "import os\n",
    "import io\n",
    "import numpy as np\n",
    "from pandas import DataFrame\n",
    "from sklearn.feature_extraction.text import CountVectorizer\n",
    "from sklearn.naive_bayes import MultinomialNB\n",
    "\n",
    "# Defining functions to read the data (emails) from files\n",
    "\n",
    "def readFiles(path):\n",
    "    for root, dirnames, filenames in os.walk(path):\n",
    "        for filename in filenames:\n",
    "            path = os.path.join(root, filename)\n",
    "\n",
    "            inBody = False\n",
    "            lines = []\n",
    "            f = io.open(path, 'r', encoding='latin1')\n",
    "            for line in f:\n",
    "                if inBody:\n",
    "                    lines.append(line)\n",
    "                elif line == '\\n':\n",
    "                    inBody = True\n",
    "            f.close()\n",
    "            message = '\\n'.join(lines)\n",
    "            yield path, message\n",
    "\n",
    "\n",
    "def dataFrameFromDirectory(path, classification):\n",
    "    rows = []\n",
    "    index = []\n",
    "    for filename, message in readFiles(path):\n",
    "        rows.append({'message': message, 'class': classification})\n",
    "        index.append(filename)\n",
    "\n",
    "    return DataFrame(rows, index=index)\n",
    "\n",
    "# Reading the emails from files into a dataframe\n",
    "\n",
    "data = DataFrame({'message': [], 'class': []})\n",
    "\n",
    "data = data.append(dataFrameFromDirectory('C:\\MLCourse\\emails/spam', 'spam'))\n",
    "data = data.append(dataFrameFromDirectory('C:\\MLCourse\\emails/ham', 'ham'))\n"
   ]
  },
  {
   "cell_type": "markdown",
   "metadata": {},
   "source": [
    "Let's have a look at that DataFrame:"
   ]
  },
  {
   "cell_type": "code",
   "execution_count": 2,
   "metadata": {},
   "outputs": [
    {
     "data": {
      "text/html": [
       "<div>\n",
       "<style scoped>\n",
       "    .dataframe tbody tr th:only-of-type {\n",
       "        vertical-align: middle;\n",
       "    }\n",
       "\n",
       "    .dataframe tbody tr th {\n",
       "        vertical-align: top;\n",
       "    }\n",
       "\n",
       "    .dataframe thead th {\n",
       "        text-align: right;\n",
       "    }\n",
       "</style>\n",
       "<table border=\"1\" class=\"dataframe\">\n",
       "  <thead>\n",
       "    <tr style=\"text-align: right;\">\n",
       "      <th></th>\n",
       "      <th>message</th>\n",
       "      <th>class</th>\n",
       "    </tr>\n",
       "  </thead>\n",
       "  <tbody>\n",
       "    <tr>\n",
       "      <th>C:\\MLCourse\\emails/spam\\00001.7848dde101aa985090474a91ec93fcf0</th>\n",
       "      <td>&lt;!DOCTYPE HTML PUBLIC \"-//W3C//DTD HTML 4.0 Tr...</td>\n",
       "      <td>spam</td>\n",
       "    </tr>\n",
       "    <tr>\n",
       "      <th>C:\\MLCourse\\emails/spam\\00002.d94f1b97e48ed3b553b3508d116e6a09</th>\n",
       "      <td>1) Fight The Risk of Cancer!\\n\\nhttp://www.adc...</td>\n",
       "      <td>spam</td>\n",
       "    </tr>\n",
       "    <tr>\n",
       "      <th>C:\\MLCourse\\emails/spam\\00003.2ee33bc6eacdb11f38d052c44819ba6c</th>\n",
       "      <td>1) Fight The Risk of Cancer!\\n\\nhttp://www.adc...</td>\n",
       "      <td>spam</td>\n",
       "    </tr>\n",
       "    <tr>\n",
       "      <th>C:\\MLCourse\\emails/spam\\00004.eac8de8d759b7e74154f142194282724</th>\n",
       "      <td>##############################################...</td>\n",
       "      <td>spam</td>\n",
       "    </tr>\n",
       "    <tr>\n",
       "      <th>C:\\MLCourse\\emails/spam\\00005.57696a39d7d84318ce497886896bf90d</th>\n",
       "      <td>I thought you might like these:\\n\\n1) Slim Dow...</td>\n",
       "      <td>spam</td>\n",
       "    </tr>\n",
       "  </tbody>\n",
       "</table>\n",
       "</div>"
      ],
      "text/plain": [
       "                                                                                              message  \\\n",
       "C:\\MLCourse\\emails/spam\\00001.7848dde101aa98509...  <!DOCTYPE HTML PUBLIC \"-//W3C//DTD HTML 4.0 Tr...   \n",
       "C:\\MLCourse\\emails/spam\\00002.d94f1b97e48ed3b55...  1) Fight The Risk of Cancer!\\n\\nhttp://www.adc...   \n",
       "C:\\MLCourse\\emails/spam\\00003.2ee33bc6eacdb11f3...  1) Fight The Risk of Cancer!\\n\\nhttp://www.adc...   \n",
       "C:\\MLCourse\\emails/spam\\00004.eac8de8d759b7e741...  ##############################################...   \n",
       "C:\\MLCourse\\emails/spam\\00005.57696a39d7d84318c...  I thought you might like these:\\n\\n1) Slim Dow...   \n",
       "\n",
       "                                                   class  \n",
       "C:\\MLCourse\\emails/spam\\00001.7848dde101aa98509...  spam  \n",
       "C:\\MLCourse\\emails/spam\\00002.d94f1b97e48ed3b55...  spam  \n",
       "C:\\MLCourse\\emails/spam\\00003.2ee33bc6eacdb11f3...  spam  \n",
       "C:\\MLCourse\\emails/spam\\00004.eac8de8d759b7e741...  spam  \n",
       "C:\\MLCourse\\emails/spam\\00005.57696a39d7d84318c...  spam  "
      ]
     },
     "execution_count": 2,
     "metadata": {},
     "output_type": "execute_result"
    }
   ],
   "source": [
    "data.head()"
   ]
  },
  {
   "cell_type": "markdown",
   "metadata": {},
   "source": [
    "### Shuffling the data"
   ]
  },
  {
   "cell_type": "code",
   "execution_count": 3,
   "metadata": {},
   "outputs": [],
   "source": [
    "# Please note: In order to create reproducible results\n",
    "# (same train/test sets, hence same model and the same accuracy),\n",
    "# it is required to use a random_state within data.sample,\n",
    "# so that the results and the accuracy of the model do not to change between\n",
    "# one run of this notebook to the next.\n",
    "\n",
    "# data1 = data.sample(frac=1)\n",
    "data1 = data.sample(frac = 1, random_state = 1)"
   ]
  },
  {
   "cell_type": "code",
   "execution_count": 4,
   "metadata": {},
   "outputs": [],
   "source": [
    "# help(data.sample(frac=1))"
   ]
  },
  {
   "cell_type": "code",
   "execution_count": 5,
   "metadata": {},
   "outputs": [
    {
     "data": {
      "text/html": [
       "<div>\n",
       "<style scoped>\n",
       "    .dataframe tbody tr th:only-of-type {\n",
       "        vertical-align: middle;\n",
       "    }\n",
       "\n",
       "    .dataframe tbody tr th {\n",
       "        vertical-align: top;\n",
       "    }\n",
       "\n",
       "    .dataframe thead th {\n",
       "        text-align: right;\n",
       "    }\n",
       "</style>\n",
       "<table border=\"1\" class=\"dataframe\">\n",
       "  <thead>\n",
       "    <tr style=\"text-align: right;\">\n",
       "      <th></th>\n",
       "      <th>message</th>\n",
       "      <th>class</th>\n",
       "    </tr>\n",
       "  </thead>\n",
       "  <tbody>\n",
       "    <tr>\n",
       "      <th>C:\\MLCourse\\emails/ham\\02264.2d1e4f4cd87e96f5ac2f24c992b59e2a</th>\n",
       "      <td>URL: http://www.newsisfree.com/click/-4,851800...</td>\n",
       "      <td>ham</td>\n",
       "    </tr>\n",
       "    <tr>\n",
       "      <th>C:\\MLCourse\\emails/ham\\00406.fe97503539c60ff6814fa2fadf1aa630</th>\n",
       "      <td>On 2 Sep 2002, RossO wrote:\\n\\n\\n\\n&gt; John Wayl...</td>\n",
       "      <td>ham</td>\n",
       "    </tr>\n",
       "    <tr>\n",
       "      <th>C:\\MLCourse\\emails/ham\\00597.d69fd43248612845c272cc277b890e1a</th>\n",
       "      <td>&gt;&gt;&gt;&gt;&gt; \"S\" == Stephen D Williams &lt;sdw@lig.net&gt; ...</td>\n",
       "      <td>ham</td>\n",
       "    </tr>\n",
       "    <tr>\n",
       "      <th>C:\\MLCourse\\emails/spam\\00236.2772a068fff32e2f8d7f8a94bd9280cd</th>\n",
       "      <td>Dear User,\\n\\n\\n\\nDo you ever wish you could e...</td>\n",
       "      <td>spam</td>\n",
       "    </tr>\n",
       "    <tr>\n",
       "      <th>C:\\MLCourse\\emails/ham\\00562.3f2a351171504facae22864c794c26b6</th>\n",
       "      <td>\\n\\nHanson is always good.\\n\\n\\n\\nOne of my sc...</td>\n",
       "      <td>ham</td>\n",
       "    </tr>\n",
       "  </tbody>\n",
       "</table>\n",
       "</div>"
      ],
      "text/plain": [
       "                                                                                              message  \\\n",
       "C:\\MLCourse\\emails/ham\\02264.2d1e4f4cd87e96f5ac...  URL: http://www.newsisfree.com/click/-4,851800...   \n",
       "C:\\MLCourse\\emails/ham\\00406.fe97503539c60ff681...  On 2 Sep 2002, RossO wrote:\\n\\n\\n\\n> John Wayl...   \n",
       "C:\\MLCourse\\emails/ham\\00597.d69fd43248612845c2...  >>>>> \"S\" == Stephen D Williams <sdw@lig.net> ...   \n",
       "C:\\MLCourse\\emails/spam\\00236.2772a068fff32e2f8...  Dear User,\\n\\n\\n\\nDo you ever wish you could e...   \n",
       "C:\\MLCourse\\emails/ham\\00562.3f2a351171504facae...  \\n\\nHanson is always good.\\n\\n\\n\\nOne of my sc...   \n",
       "\n",
       "                                                   class  \n",
       "C:\\MLCourse\\emails/ham\\02264.2d1e4f4cd87e96f5ac...   ham  \n",
       "C:\\MLCourse\\emails/ham\\00406.fe97503539c60ff681...   ham  \n",
       "C:\\MLCourse\\emails/ham\\00597.d69fd43248612845c2...   ham  \n",
       "C:\\MLCourse\\emails/spam\\00236.2772a068fff32e2f8...  spam  \n",
       "C:\\MLCourse\\emails/ham\\00562.3f2a351171504facae...   ham  "
      ]
     },
     "execution_count": 5,
     "metadata": {},
     "output_type": "execute_result"
    }
   ],
   "source": [
    "data1.tail()"
   ]
  },
  {
   "cell_type": "code",
   "execution_count": 6,
   "metadata": {},
   "outputs": [
    {
     "data": {
      "text/plain": [
       "3000"
      ]
     },
     "execution_count": 6,
     "metadata": {},
     "output_type": "execute_result"
    }
   ],
   "source": [
    "len(data)"
   ]
  },
  {
   "cell_type": "code",
   "execution_count": 7,
   "metadata": {},
   "outputs": [
    {
     "data": {
      "text/plain": [
       "3000"
      ]
     },
     "execution_count": 7,
     "metadata": {},
     "output_type": "execute_result"
    }
   ],
   "source": [
    "len(data1)"
   ]
  },
  {
   "cell_type": "markdown",
   "metadata": {},
   "source": [
    "### Creation of train and test sets"
   ]
  },
  {
   "cell_type": "code",
   "execution_count": 8,
   "metadata": {},
   "outputs": [],
   "source": [
    "# The train set contains 2/3 of the data: 2000 emails\n",
    "# The test set contains 1/3 of the data: 1000 emails\n",
    "\n",
    "trainx = data1[[\"message\"]][:2000]\n",
    "testx = data1[[\"message\"]][2000:]\n",
    "testy = data1[[\"class\"]][2000:]\n",
    "trainy = data1[[\"class\"]][:2000]"
   ]
  },
  {
   "cell_type": "code",
   "execution_count": 9,
   "metadata": {},
   "outputs": [
    {
     "data": {
      "text/html": [
       "<div>\n",
       "<style scoped>\n",
       "    .dataframe tbody tr th:only-of-type {\n",
       "        vertical-align: middle;\n",
       "    }\n",
       "\n",
       "    .dataframe tbody tr th {\n",
       "        vertical-align: top;\n",
       "    }\n",
       "\n",
       "    .dataframe thead th {\n",
       "        text-align: right;\n",
       "    }\n",
       "</style>\n",
       "<table border=\"1\" class=\"dataframe\">\n",
       "  <thead>\n",
       "    <tr style=\"text-align: right;\">\n",
       "      <th></th>\n",
       "      <th>class</th>\n",
       "    </tr>\n",
       "  </thead>\n",
       "  <tbody>\n",
       "    <tr>\n",
       "      <th>C:\\MLCourse\\emails/ham\\02241.aaefd69aeb045921a2c82a01c13d225d</th>\n",
       "      <td>ham</td>\n",
       "    </tr>\n",
       "    <tr>\n",
       "      <th>C:\\MLCourse\\emails/spam\\00079.cc3fa7d977a44a09d450dde5db161c37</th>\n",
       "      <td>spam</td>\n",
       "    </tr>\n",
       "    <tr>\n",
       "      <th>C:\\MLCourse\\emails/ham\\02030.596414a1b7f0e928af1b40535a6cc0ca</th>\n",
       "      <td>ham</td>\n",
       "    </tr>\n",
       "    <tr>\n",
       "      <th>C:\\MLCourse\\emails/ham\\01712.c20d5899b4b27415389a10cd4f400019</th>\n",
       "      <td>ham</td>\n",
       "    </tr>\n",
       "    <tr>\n",
       "      <th>C:\\MLCourse\\emails/ham\\02152.8df514c41920019281f8f0723dad0001</th>\n",
       "      <td>ham</td>\n",
       "    </tr>\n",
       "  </tbody>\n",
       "</table>\n",
       "</div>"
      ],
      "text/plain": [
       "                                                   class\n",
       "C:\\MLCourse\\emails/ham\\02241.aaefd69aeb045921a2...   ham\n",
       "C:\\MLCourse\\emails/spam\\00079.cc3fa7d977a44a09d...  spam\n",
       "C:\\MLCourse\\emails/ham\\02030.596414a1b7f0e928af...   ham\n",
       "C:\\MLCourse\\emails/ham\\01712.c20d5899b4b2741538...   ham\n",
       "C:\\MLCourse\\emails/ham\\02152.8df514c41920019281...   ham"
      ]
     },
     "execution_count": 9,
     "metadata": {},
     "output_type": "execute_result"
    }
   ],
   "source": [
    "testy.head()"
   ]
  },
  {
   "cell_type": "code",
   "execution_count": 10,
   "metadata": {},
   "outputs": [
    {
     "data": {
      "text/html": [
       "<div>\n",
       "<style scoped>\n",
       "    .dataframe tbody tr th:only-of-type {\n",
       "        vertical-align: middle;\n",
       "    }\n",
       "\n",
       "    .dataframe tbody tr th {\n",
       "        vertical-align: top;\n",
       "    }\n",
       "\n",
       "    .dataframe thead th {\n",
       "        text-align: right;\n",
       "    }\n",
       "</style>\n",
       "<table border=\"1\" class=\"dataframe\">\n",
       "  <thead>\n",
       "    <tr style=\"text-align: right;\">\n",
       "      <th></th>\n",
       "      <th>class</th>\n",
       "    </tr>\n",
       "  </thead>\n",
       "  <tbody>\n",
       "    <tr>\n",
       "      <th>C:\\MLCourse\\emails/ham\\01458.faf90fabe2c118e46dd6a60139a7317f</th>\n",
       "      <td>ham</td>\n",
       "    </tr>\n",
       "    <tr>\n",
       "      <th>C:\\MLCourse\\emails/ham\\01588.f0623dc7b744dd2ba0417f8f0a98662f</th>\n",
       "      <td>ham</td>\n",
       "    </tr>\n",
       "    <tr>\n",
       "      <th>C:\\MLCourse\\emails/ham\\00895.0c7898bdc5199ca3efd6af04c80430d0</th>\n",
       "      <td>ham</td>\n",
       "    </tr>\n",
       "    <tr>\n",
       "      <th>C:\\MLCourse\\emails/ham\\01021.3fc1c0955f38f5873882a577f00a5f2c</th>\n",
       "      <td>ham</td>\n",
       "    </tr>\n",
       "    <tr>\n",
       "      <th>C:\\MLCourse\\emails/ham\\00599.94c013ab7037d45045aafbac3389bef0</th>\n",
       "      <td>ham</td>\n",
       "    </tr>\n",
       "  </tbody>\n",
       "</table>\n",
       "</div>"
      ],
      "text/plain": [
       "                                                   class\n",
       "C:\\MLCourse\\emails/ham\\01458.faf90fabe2c118e46d...   ham\n",
       "C:\\MLCourse\\emails/ham\\01588.f0623dc7b744dd2ba0...   ham\n",
       "C:\\MLCourse\\emails/ham\\00895.0c7898bdc5199ca3ef...   ham\n",
       "C:\\MLCourse\\emails/ham\\01021.3fc1c0955f38f58738...   ham\n",
       "C:\\MLCourse\\emails/ham\\00599.94c013ab7037d45045...   ham"
      ]
     },
     "execution_count": 10,
     "metadata": {},
     "output_type": "execute_result"
    }
   ],
   "source": [
    "trainy.head()"
   ]
  },
  {
   "cell_type": "markdown",
   "metadata": {},
   "source": [
    "### Creation of a spam filter"
   ]
  },
  {
   "cell_type": "markdown",
   "metadata": {},
   "source": [
    "Now we will use a CountVectorizer to split up each message into its list of words, and throw that into a MultinomialNB classifier. Call fit() and we've got a trained spam filter ready to go! It's just that easy."
   ]
  },
  {
   "cell_type": "code",
   "execution_count": 11,
   "metadata": {},
   "outputs": [
    {
     "data": {
      "text/plain": [
       "MultinomialNB()"
      ]
     },
     "execution_count": 11,
     "metadata": {},
     "output_type": "execute_result"
    }
   ],
   "source": [
    "vectorizer = CountVectorizer()\n",
    "counts = vectorizer.fit_transform(trainx['message'].values)\n",
    "\n",
    "classifier = MultinomialNB()\n",
    "targets = trainy['class'].values\n",
    "classifier.fit(counts, targets)"
   ]
  },
  {
   "cell_type": "code",
   "execution_count": 12,
   "metadata": {},
   "outputs": [
    {
     "data": {
      "text/html": [
       "<div>\n",
       "<style scoped>\n",
       "    .dataframe tbody tr th:only-of-type {\n",
       "        vertical-align: middle;\n",
       "    }\n",
       "\n",
       "    .dataframe tbody tr th {\n",
       "        vertical-align: top;\n",
       "    }\n",
       "\n",
       "    .dataframe thead th {\n",
       "        text-align: right;\n",
       "    }\n",
       "</style>\n",
       "<table border=\"1\" class=\"dataframe\">\n",
       "  <thead>\n",
       "    <tr style=\"text-align: right;\">\n",
       "      <th></th>\n",
       "      <th>message</th>\n",
       "    </tr>\n",
       "  </thead>\n",
       "  <tbody>\n",
       "    <tr>\n",
       "      <th>C:\\MLCourse\\emails/ham\\01458.faf90fabe2c118e46dd6a60139a7317f</th>\n",
       "      <td>\\n\\nRobert Strickler said:\\n\\n\\n\\n&gt; Looks like...</td>\n",
       "    </tr>\n",
       "    <tr>\n",
       "      <th>C:\\MLCourse\\emails/ham\\01588.f0623dc7b744dd2ba0417f8f0a98662f</th>\n",
       "      <td>Hi,\\n\\n\\n\\nIs it possible to use razor without...</td>\n",
       "    </tr>\n",
       "    <tr>\n",
       "      <th>C:\\MLCourse\\emails/ham\\00895.0c7898bdc5199ca3efd6af04c80430d0</th>\n",
       "      <td>she read the links. what must it be like, she ...</td>\n",
       "    </tr>\n",
       "    <tr>\n",
       "      <th>C:\\MLCourse\\emails/ham\\01021.3fc1c0955f38f5873882a577f00a5f2c</th>\n",
       "      <td>\\n\\nHi Folks,\\n\\n\\n\\nI've been trying to set a...</td>\n",
       "    </tr>\n",
       "    <tr>\n",
       "      <th>C:\\MLCourse\\emails/ham\\00599.94c013ab7037d45045aafbac3389bef0</th>\n",
       "      <td>Chuck Murcko wrote:\\n\\n&gt; &gt; The usual crud.  Wh...</td>\n",
       "    </tr>\n",
       "  </tbody>\n",
       "</table>\n",
       "</div>"
      ],
      "text/plain": [
       "                                                                                              message\n",
       "C:\\MLCourse\\emails/ham\\01458.faf90fabe2c118e46d...  \\n\\nRobert Strickler said:\\n\\n\\n\\n> Looks like...\n",
       "C:\\MLCourse\\emails/ham\\01588.f0623dc7b744dd2ba0...  Hi,\\n\\n\\n\\nIs it possible to use razor without...\n",
       "C:\\MLCourse\\emails/ham\\00895.0c7898bdc5199ca3ef...  she read the links. what must it be like, she ...\n",
       "C:\\MLCourse\\emails/ham\\01021.3fc1c0955f38f58738...  \\n\\nHi Folks,\\n\\n\\n\\nI've been trying to set a...\n",
       "C:\\MLCourse\\emails/ham\\00599.94c013ab7037d45045...  Chuck Murcko wrote:\\n\\n> > The usual crud.  Wh..."
      ]
     },
     "execution_count": 12,
     "metadata": {},
     "output_type": "execute_result"
    }
   ],
   "source": [
    "trainx.head()"
   ]
  },
  {
   "cell_type": "markdown",
   "metadata": {},
   "source": [
    "### Testing the model on the test set"
   ]
  },
  {
   "cell_type": "code",
   "execution_count": 13,
   "metadata": {},
   "outputs": [],
   "source": [
    "testx_counts = vectorizer.transform(testx[\"message\"].values)"
   ]
  },
  {
   "cell_type": "code",
   "execution_count": 14,
   "metadata": {},
   "outputs": [],
   "source": [
    "predictions = classifier.predict(testx_counts)"
   ]
  },
  {
   "cell_type": "code",
   "execution_count": 15,
   "metadata": {},
   "outputs": [
    {
     "data": {
      "text/plain": [
       "array(['ham', 'spam', 'ham', 'ham', 'ham'], dtype='<U4')"
      ]
     },
     "execution_count": 15,
     "metadata": {},
     "output_type": "execute_result"
    }
   ],
   "source": [
    "predictions[:5]"
   ]
  },
  {
   "cell_type": "markdown",
   "metadata": {},
   "source": [
    "### Model Accuracy"
   ]
  },
  {
   "cell_type": "code",
   "execution_count": 16,
   "metadata": {},
   "outputs": [],
   "source": [
    "acc_test = (predictions == np.array(testy[\"class\"])).sum()/len(predictions)*100"
   ]
  },
  {
   "cell_type": "code",
   "execution_count": 17,
   "metadata": {},
   "outputs": [
    {
     "name": "stdout",
     "output_type": "stream",
     "text": [
      "The accuracy on the test set (1/3 of the data was used as a test set) is 94.3%.\n"
     ]
    }
   ],
   "source": [
    "print('The accuracy on the test set (1/3 of the data was used as a test set) is ' + str(acc_test) + \"%.\")"
   ]
  },
  {
   "cell_type": "markdown",
   "metadata": {},
   "source": [
    "### Using the model on new email examples"
   ]
  },
  {
   "cell_type": "markdown",
   "metadata": {},
   "source": [
    "Let's try it out:"
   ]
  },
  {
   "cell_type": "code",
   "execution_count": 18,
   "metadata": {},
   "outputs": [
    {
     "data": {
      "text/plain": [
       "array(['spam', 'ham'], dtype='<U4')"
      ]
     },
     "execution_count": 18,
     "metadata": {},
     "output_type": "execute_result"
    }
   ],
   "source": [
    "examples = ['Free Viagra now!!!', \"Hi Bob, how about a game of golf tomorrow?\"]\n",
    "example_counts = vectorizer.transform(examples)\n",
    "predictions = classifier.predict(example_counts)\n",
    "predictions"
   ]
  },
  {
   "cell_type": "code",
   "execution_count": 19,
   "metadata": {},
   "outputs": [
    {
     "data": {
      "text/plain": [
       "array(['spam'], dtype='<U4')"
      ]
     },
     "execution_count": 19,
     "metadata": {},
     "output_type": "execute_result"
    }
   ],
   "source": [
    "examples1 = [\"Ancient Healing Secrets Free Ebook\"]\n",
    "examples1_counts = vectorizer.transform(examples1)\n",
    "predictions = classifier.predict(examples1_counts)\n",
    "predictions"
   ]
  },
  {
   "cell_type": "code",
   "execution_count": 20,
   "metadata": {},
   "outputs": [
    {
     "data": {
      "text/plain": [
       "array(['spam'], dtype='<U4')"
      ]
     },
     "execution_count": 20,
     "metadata": {},
     "output_type": "execute_result"
    }
   ],
   "source": [
    "examples2 = [\"2 new items in your Stack Exchange inbox\"]\n",
    "examples2_counts = vectorizer.transform(examples1)\n",
    "predictions = classifier.predict(examples2_counts)\n",
    "predictions"
   ]
  },
  {
   "cell_type": "code",
   "execution_count": 21,
   "metadata": {},
   "outputs": [
    {
     "data": {
      "text/plain": [
       "array(['ham'], dtype='<U4')"
      ]
     },
     "execution_count": 21,
     "metadata": {},
     "output_type": "execute_result"
    }
   ],
   "source": [
    "examples3 = [\"UK Research and Innovation MRC funding opportunities Update\"]\n",
    "examples3_counts = vectorizer.transform(examples3)\n",
    "predictions = classifier.predict(examples3_counts)\n",
    "predictions"
   ]
  },
  {
   "cell_type": "markdown",
   "metadata": {},
   "source": [
    "## Activity"
   ]
  },
  {
   "cell_type": "markdown",
   "metadata": {},
   "source": [
    "Our data set is small, so our spam classifier isn't actually very good. Try running some different test emails through it and see if you get the results you expect. **<u>Done</u>**.\n",
    "\n",
    "If you really want to challenge yourself, try applying train/test to this spam classifier - see how well it can predict some subset of the ham and spam emails. **<u>Done</u>**."
   ]
  }
 ],
 "metadata": {
  "kernelspec": {
   "display_name": "Python 3 (ipykernel)",
   "language": "python",
   "name": "python3"
  },
  "language_info": {
   "codemirror_mode": {
    "name": "ipython",
    "version": 3
   },
   "file_extension": ".py",
   "mimetype": "text/x-python",
   "name": "python",
   "nbconvert_exporter": "python",
   "pygments_lexer": "ipython3",
   "version": "3.9.12"
  }
 },
 "nbformat": 4,
 "nbformat_minor": 1
}
